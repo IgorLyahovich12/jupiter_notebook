{
 "cells": [
  {
   "cell_type": "code",
   "execution_count": 1,
   "id": "6325c6c8-cc63-42dd-b372-6835d9dd8253",
   "metadata": {},
   "outputs": [
    {
     "name": "stdout",
     "output_type": "stream",
     "text": [
      "           insert_date    origin destination           start_date  \\\n",
      "0  2019-04-22 08:00:25    MADRID     SEVILLA  2019-04-28 08:30:00   \n",
      "1  2019-04-22 10:03:24    MADRID    VALENCIA  2019-05-20 06:45:00   \n",
      "2  2019-04-25 19:19:46    MADRID     SEVILLA  2019-05-29 06:20:00   \n",
      "3  2019-04-24 06:21:57   SEVILLA      MADRID  2019-05-03 08:35:00   \n",
      "4  2019-04-19 21:13:55  VALENCIA      MADRID  2019-05-10 09:40:00   \n",
      "\n",
      "              end_date train_type  price         train_class      fare  \n",
      "0  2019-04-28 11:14:00      ALVIA    NaN             Turista  Flexible  \n",
      "1  2019-05-20 08:38:00        AVE  21.95             Turista     Promo  \n",
      "2  2019-05-29 09:16:00    AV City  38.55             Turista     Promo  \n",
      "3  2019-05-03 15:26:00      LD-MD  34.35  Turista con enlace   Promo +  \n",
      "4  2019-05-10 11:20:00        AVE  45.30             Turista     Promo  \n"
     ]
    }
   ],
   "source": [
    "import pandas as pd\n",
    "\n",
    "# Завантаження даних\n",
    "url = \"https://raw.githubusercontent.com/susanli2016/Machine-Learning-with-Python/master/data/renfe_small.csv\"\n",
    "df = pd.read_csv(url)\n",
    "\n",
    "# Виведення перших 5 рядків\n",
    "print(df.head())\n"
   ]
  },
  {
   "cell_type": "code",
   "execution_count": 2,
   "id": "7fc63df2-3994-4abe-bf2d-5361d33021fa",
   "metadata": {},
   "outputs": [
    {
     "name": "stdout",
     "output_type": "stream",
     "text": [
      "insert_date       0\n",
      "origin            0\n",
      "destination       0\n",
      "start_date        0\n",
      "end_date          0\n",
      "train_type        0\n",
      "price          3082\n",
      "train_class     103\n",
      "fare            103\n",
      "dtype: int64\n",
      "[ 21.95  38.55  34.35  45.3   85.1   98.    33.65  43.25  76.3   61.45\n",
      "  54.45 102.15 100.4   66.55  58.95  60.3  107.7   28.35  47.3  128.5\n",
      "  75.4   62.2   43.55 143.4   66.75  39.45  71.    80.15  28.05  57.75\n",
      "  49.15  45.8   57.    73.1   78.8   54.1   55.4   53.4   51.15  47.\n",
      "  69.4   27.8   43.75  58.15  85.08  22.9   90.5   35.15  49.55  33.5\n",
      "  28.1   25.75  69.8   40.95  58.45  29.9   79.65  38.75  20.6   88.95\n",
      "  94.55  46.8  129.3  115.65  59.1   46.15  59.6   64.05  82.35  87.4\n",
      "  42.75 181.5   55.8   32.9   59.5   40.3  127.1   16.6   52.45  31.2\n",
      "  39.9   44.7   52.5   34.2  120.5  127.05  41.2  214.2   30.05  91.5\n",
      "  34.65 112.55  47.05  98.01  62.4   17.15  68.65  35.5  169.2   69.35\n",
      "  36.15  36.05  21.05  21.65  72.3   67.2  140.   101.5   56.65  32.4\n",
      "  32.45  38.8   40.6   43.7   21.45  27.9   86.25  49.7   53.25  68.95\n",
      "  81.4   56.1   27.05  89.95  39.95  86.8   37.45  35.1  106.75  61.2\n",
      "  98.55  57.95  97.35  42.05  30.9   53.3   52.2   29.   123.2   39.25\n",
      "  39.05  70.15  42.9   74.2   37.65  83.5   27.5   48.85 172.4  132.8\n",
      "  35.75  27.7   64.6   76.4   46.25  90.45  61.4   64.4   53.5   49.4\n",
      " 150.6  152.5  206.8   75.6   74.6   64.25  25.5   78.3   95.1   40.35\n",
      "  68.63  42.1   58.16  99.1  149.95  44.6   56.75  66.77  92.3  100.41\n",
      "  51.5   22.45]\n"
     ]
    }
   ],
   "source": [
    "# Перевірка наявності пропущених значень\n",
    "print(df.isnull().sum())\n",
    "\n",
    "# Видалення рядків з пропущеними значеннями\n",
    "df.dropna(inplace=True)\n",
    "\n",
    "# Перевірка унікальних значень у стовпці 'price'\n",
    "print(df['price'].unique())\n"
   ]
  },
  {
   "cell_type": "code",
   "execution_count": 3,
   "id": "16a2dea1-269c-412c-8c5b-388d8c0096da",
   "metadata": {},
   "outputs": [
    {
     "name": "stdout",
     "output_type": "stream",
     "text": [
      "price_category\n",
      "medium    12559\n",
      "low        7815\n",
      "high       2342\n",
      "Name: count, dtype: int64\n"
     ]
    }
   ],
   "source": [
    "# Створення категорій цін\n",
    "def categorize_price(price):\n",
    "    if price < 50:\n",
    "        return 'low'\n",
    "    elif 50 <= price < 100:\n",
    "        return 'medium'\n",
    "    else:\n",
    "        return 'high'\n",
    "\n",
    "df['price_category'] = df['price'].apply(categorize_price)\n",
    "\n",
    "# Перевірка розподілу нової змінної\n",
    "print(df['price_category'].value_counts())\n"
   ]
  },
  {
   "cell_type": "code",
   "execution_count": 4,
   "id": "c2bf38ad-7114-4509-b39e-31d1d454be1f",
   "metadata": {},
   "outputs": [],
   "source": [
    "from sklearn.preprocessing import LabelEncoder\n",
    "\n",
    "# Кодування категоріальних змінних\n",
    "categorical_cols = ['train_type', 'origin', 'destination']\n",
    "le = LabelEncoder()\n",
    "\n",
    "for col in categorical_cols:\n",
    "    df[col] = le.fit_transform(df[col])\n",
    "\n",
    "# Кодування цільової змінної\n",
    "df['price_category'] = le.fit_transform(df['price_category'])\n"
   ]
  },
  {
   "cell_type": "code",
   "execution_count": 5,
   "id": "e6ea1254-233e-4267-b8e8-1743ef2a8479",
   "metadata": {},
   "outputs": [
    {
     "name": "stdout",
     "output_type": "stream",
     "text": [
      "              precision    recall  f1-score   support\n",
      "\n",
      "           0       0.29      0.93      0.44       471\n",
      "           1       0.85      0.41      0.56      1576\n",
      "           2       0.60      0.54      0.57      2497\n",
      "\n",
      "    accuracy                           0.54      4544\n",
      "   macro avg       0.58      0.63      0.52      4544\n",
      "weighted avg       0.65      0.54      0.55      4544\n",
      "\n"
     ]
    }
   ],
   "source": [
    "from sklearn.model_selection import train_test_split\n",
    "from sklearn.naive_bayes import GaussianNB\n",
    "from sklearn.metrics import classification_report\n",
    "\n",
    "# Визначення ознак та цільової змінної\n",
    "X = df[['train_type', 'origin', 'destination']]\n",
    "y = df['price_category']\n",
    "\n",
    "# Розділення на тренувальний та тестовий набори\n",
    "X_train, X_test, y_train, y_test = train_test_split(X, y, test_size=0.2, random_state=42)\n",
    "\n",
    "# Ініціалізація та тренування моделі\n",
    "model = GaussianNB()\n",
    "model.fit(X_train, y_train)\n",
    "\n",
    "# Прогнозування та оцінка моделі\n",
    "y_pred = model.predict(X_test)\n",
    "print(classification_report(y_test, y_pred))\n"
   ]
  }
 ],
 "metadata": {
  "kernelspec": {
   "display_name": "Python 3 (ipykernel)",
   "language": "python",
   "name": "python3"
  },
  "language_info": {
   "codemirror_mode": {
    "name": "ipython",
    "version": 3
   },
   "file_extension": ".py",
   "mimetype": "text/x-python",
   "name": "python",
   "nbconvert_exporter": "python",
   "pygments_lexer": "ipython3",
   "version": "3.12.4"
  }
 },
 "nbformat": 4,
 "nbformat_minor": 5
}
