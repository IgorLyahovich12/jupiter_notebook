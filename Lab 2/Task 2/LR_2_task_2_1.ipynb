{
 "cells": [
  {
   "cell_type": "code",
   "execution_count": 1,
   "id": "a93c7191-f38c-43d5-a151-0bb3fba969ce",
   "metadata": {},
   "outputs": [],
   "source": [
    "import numpy as np\n",
    "from sklearn.svm import SVC\n",
    "from sklearn.multiclass import OneVsRestClassifier\n",
    "from sklearn.model_selection import train_test_split\n",
    "from sklearn.metrics import accuracy_score, precision_score, recall_score, f1_score\n",
    "from sklearn import preprocessing\n",
    "import numpy as np"
   ]
  },
  {
   "cell_type": "code",
   "execution_count": 2,
   "id": "323fd4d3-52b6-4de6-ae61-e9c9698ca954",
   "metadata": {},
   "outputs": [],
   "source": [
    "input_file = 'income_data.txt'"
   ]
  },
  {
   "cell_type": "code",
   "execution_count": 3,
   "id": "0894cfb4-4061-4813-8328-f672ef5a0a52",
   "metadata": {},
   "outputs": [],
   "source": [
    "X = []\n",
    "y = []\n",
    "count_class1 = 0\n",
    "count_class2 = 0\n",
    "max_datapoints = 25000"
   ]
  },
  {
   "cell_type": "code",
   "execution_count": 4,
   "id": "683cb32d-aa40-44a2-abea-c2dcc203adb0",
   "metadata": {},
   "outputs": [],
   "source": [
    "with open(input_file, 'r') as f:\n",
    "    for line in f.readlines():\n",
    "        if count_class1 >= max_datapoints and count_class2 >= max_datapoints:\n",
    "            break\n",
    "\n",
    "        if '?' in line:\n",
    "            continue\n",
    "\n",
    "        data = line[:-1].split(',')\n",
    "        # print(data)\n",
    "\n",
    "        if data[-1] == ' <=50K' and count_class1 < max_datapoints:\n",
    "            X.append(data)\n",
    "            count_class1 += 1\n",
    "\n",
    "        if data[-1] == ' >50K' and count_class2 < max_datapoints:\n",
    "            X.append(data)\n",
    "            count_class2 += 1"
   ]
  },
  {
   "cell_type": "code",
   "execution_count": 5,
   "id": "f5794d39-8e61-47e2-8b18-5bb6a5a0d8dd",
   "metadata": {},
   "outputs": [],
   "source": [
    "X = np.array(X)"
   ]
  },
  {
   "cell_type": "code",
   "execution_count": 6,
   "id": "603ff57d-8d0a-4621-a64a-01d93ef9568d",
   "metadata": {},
   "outputs": [],
   "source": [
    "label_encoder = []\n",
    "X_encoded = np.empty(X.shape)\n",
    "for i, item in enumerate(X[0]):\n",
    "    if item.isdigit():\n",
    "        X_encoded[:, i] = X[:, i]\n",
    "    else:\n",
    "        label_encoder.append(preprocessing.LabelEncoder())\n",
    "        X_encoded[:, i] = label_encoder[-1].fit_transform(X[:, i])\n",
    "\n",
    "X = X_encoded[:, :-1].astype(int)\n",
    "y = X_encoded[:, -1].astype(int)"
   ]
  },
  {
   "cell_type": "code",
   "execution_count": 7,
   "id": "4fe48f9e-394c-443c-bc2c-40b568b4f111",
   "metadata": {},
   "outputs": [
    {
     "name": "stdout",
     "output_type": "stream",
     "text": [
      "\n",
      "Classifier: Polynomial SVM\n"
     ]
    }
   ],
   "source": [
    "print('\\nClassifier: Polynomial SVM')\n",
    "# Використовуємо SVC з поліноміальним ядром та ступенем 8\n",
    "lf_poly = OneVsRestClassifier(SVC(kernel='poly', degree=3, random_state=0))\n"
   ]
  },
  {
   "cell_type": "code",
   "execution_count": 8,
   "id": "c2e468a1-9731-4213-bf35-a0e65992197d",
   "metadata": {},
   "outputs": [],
   "source": [
    "X_train, X_test, y_train, y_test = train_test_split(X, y, test_size=0.2, random_state=42)"
   ]
  },
  {
   "cell_type": "code",
   "execution_count": 9,
   "id": "b25560af-134c-45e8-b80a-aeae9d201b56",
   "metadata": {},
   "outputs": [],
   "source": [
    "# Навчання моделі\n",
    "lf_poly.fit(X_train, y_train)\n",
    "\n",
    "# Прогнозування\n",
    "y_test_pred = lf_poly.predict(X_test)"
   ]
  },
  {
   "cell_type": "code",
   "execution_count": 10,
   "id": "01bdd90f-4b66-4392-9676-445f167f5414",
   "metadata": {},
   "outputs": [
    {
     "name": "stdout",
     "output_type": "stream",
     "text": [
      "Акуратність: 74.64%\n",
      "Точність: 55.71%\n",
      "Повнота: 74.64%\n",
      "F1: 63.80%\n",
      "----------------------------------------\n"
     ]
    }
   ],
   "source": [
    "# Оцінка моделі\n",
    "accuracy = accuracy_score(y_test, y_test_pred)\n",
    "precision = precision_score(y_test, y_test_pred, average='weighted', zero_division=0)\n",
    "recall = recall_score(y_test, y_test_pred, average='weighted')\n",
    "f1 = f1_score(y_test, y_test_pred, average='weighted')\n",
    "\n",
    "# Виведення результатів\n",
    "print(f'Акуратність: {accuracy*100:.2f}%')\n",
    "print(f'Точність: {precision*100:.2f}%')\n",
    "print(f'Повнота: {recall*100:.2f}%')\n",
    "print(f'F1: {f1*100:.2f}%')\n",
    "print('-' * 40)"
   ]
  },
  {
   "cell_type": "code",
   "execution_count": null,
   "id": "a0a73115-e443-4a34-ad23-887298a6d146",
   "metadata": {},
   "outputs": [],
   "source": []
  }
 ],
 "metadata": {
  "kernelspec": {
   "display_name": "Python 3 (ipykernel)",
   "language": "python",
   "name": "python3"
  },
  "language_info": {
   "codemirror_mode": {
    "name": "ipython",
    "version": 3
   },
   "file_extension": ".py",
   "mimetype": "text/x-python",
   "name": "python",
   "nbconvert_exporter": "python",
   "pygments_lexer": "ipython3",
   "version": "3.12.4"
  }
 },
 "nbformat": 4,
 "nbformat_minor": 5
}
