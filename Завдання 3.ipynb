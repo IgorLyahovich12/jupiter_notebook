{
 "cells": [
  {
   "cell_type": "code",
   "execution_count": 1,
   "id": "0cc6159f-1704-4cea-93bf-f695d8c18c78",
   "metadata": {},
   "outputs": [
    {
     "name": "stdout",
     "output_type": "stream",
     "text": [
      "P(Yes) = 0.89\n",
      "P(No) = 0.11\n",
      " Прогноз: Матч відбудеться.\n"
     ]
    }
   ],
   "source": [
    "import pandas as pd\n",
    "\n",
    "# Частотні таблиці\n",
    "outlook_table = pd.DataFrame({\n",
    "    'Outlook': ['Sunny', 'Overcast', 'Rainy'],\n",
    "    'Yes': [3, 4, 3],\n",
    "    'No': [2, 0, 2]\n",
    "})\n",
    "\n",
    "humidity_table = pd.DataFrame({\n",
    "    'Humidity': ['High', 'Normal'],\n",
    "    'Yes': [3, 6],\n",
    "    'No': [4, 1]\n",
    "})\n",
    "\n",
    "wind_table = pd.DataFrame({\n",
    "    'Wind': ['Strong', 'Weak'],\n",
    "    'Yes': [6, 3],\n",
    "    'No': [2, 3]\n",
    "})\n",
    "\n",
    "# Загальні значення\n",
    "total_yes = 9\n",
    "total_no = 5\n",
    "total = total_yes + total_no\n",
    "\n",
    "P_yes = total_yes / total\n",
    "P_no = total_no / total\n",
    "\n",
    "# Імовірності:\n",
    "def get_prob(table, feature_col, feature_val, target_col, total_target):\n",
    "    row = table[table[feature_col] == feature_val]\n",
    "    if not row.empty:\n",
    "        return row[target_col].values[0] / total_target\n",
    "    else:\n",
    "        return 0\n",
    "\n",
    "# Значення для розрахунку\n",
    "outlook = 'Sunny'\n",
    "humidity = 'Normal'\n",
    "wind = 'Strong'\n",
    "\n",
    "# Ймовірність для 'Yes'\n",
    "p_outlook_yes = get_prob(outlook_table, 'Outlook', outlook, 'Yes', total_yes)\n",
    "p_humidity_yes = get_prob(humidity_table, 'Humidity', humidity, 'Yes', total_yes)\n",
    "p_wind_yes = get_prob(wind_table, 'Wind', wind, 'Yes', total_yes)\n",
    "\n",
    "p_yes_total = p_outlook_yes * p_humidity_yes * p_wind_yes * P_yes\n",
    "\n",
    "# Ймовірність для 'No'\n",
    "p_outlook_no = get_prob(outlook_table, 'Outlook', outlook, 'No', total_no)\n",
    "p_humidity_no = get_prob(humidity_table, 'Humidity', humidity, 'No', total_no)\n",
    "p_wind_no = get_prob(wind_table, 'Wind', wind, 'No', total_no)\n",
    "\n",
    "p_no_total = p_outlook_no * p_humidity_no * p_wind_no * P_no\n",
    "\n",
    "# Нормалізація\n",
    "p_yes_final = p_yes_total / (p_yes_total + p_no_total)\n",
    "p_no_final = p_no_total / (p_yes_total + p_no_total)\n",
    "\n",
    "print(f\"P(Yes) = {p_yes_final:.2f}\")\n",
    "print(f\"P(No) = {p_no_final:.2f}\")\n",
    "\n",
    "if p_yes_final > p_no_final:\n",
    "    print(\" Прогноз: Матч відбудеться.\")\n",
    "else:\n",
    "    print(\" Прогноз: Матч не відбудеться.\")\n"
   ]
  }
 ],
 "metadata": {
  "kernelspec": {
   "display_name": "Python 3 (ipykernel)",
   "language": "python",
   "name": "python3"
  },
  "language_info": {
   "codemirror_mode": {
    "name": "ipython",
    "version": 3
   },
   "file_extension": ".py",
   "mimetype": "text/x-python",
   "name": "python",
   "nbconvert_exporter": "python",
   "pygments_lexer": "ipython3",
   "version": "3.12.4"
  }
 },
 "nbformat": 4,
 "nbformat_minor": 5
}
